{
 "cells": [
  {
   "cell_type": "code",
   "execution_count": 8,
   "metadata": {
    "collapsed": true
   },
   "outputs": [],
   "source": [
    "\n",
    "import json\n"
   ]
  },
  {
   "cell_type": "code",
   "execution_count": 1,
   "metadata": {
    "collapsed": true
   },
   "outputs": [],
   "source": [
    "import pandas as pd\n"
   ]
  },
  {
   "cell_type": "code",
   "execution_count": 2,
   "metadata": {
    "collapsed": true
   },
   "outputs": [],
   "source": [
    "import numpy as np\n"
   ]
  },
  {
   "cell_type": "code",
   "execution_count": 4,
   "metadata": {
    "collapsed": true
   },
   "outputs": [],
   "source": [
    "samp = pd.read_json(\"sample.json\")"
   ]
  },
  {
   "cell_type": "code",
   "execution_count": 6,
   "metadata": {
    "collapsed": false
   },
   "outputs": [
    {
     "data": {
      "text/plain": [
       "(3, 17)"
      ]
     },
     "execution_count": 6,
     "metadata": {},
     "output_type": "execute_result"
    }
   ],
   "source": [
    "samp.shape"
   ]
  },
  {
   "cell_type": "code",
   "execution_count": 7,
   "metadata": {
    "collapsed": false
   },
   "outputs": [
    {
     "data": {
      "text/html": [
       "<div style=\"max-height:1000px;max-width:1500px;overflow:auto;\">\n",
       "<table border=\"1\" class=\"dataframe\">\n",
       "  <thead>\n",
       "    <tr style=\"text-align: right;\">\n",
       "      <th></th>\n",
       "      <th>Nimages</th>\n",
       "      <th>Nlinks</th>\n",
       "      <th>Nsteps</th>\n",
       "      <th>Nvideos</th>\n",
       "      <th>author</th>\n",
       "      <th>award</th>\n",
       "      <th>comments</th>\n",
       "      <th>contentExtra</th>\n",
       "      <th>date</th>\n",
       "      <th>descr</th>\n",
       "      <th>keywords</th>\n",
       "      <th>projectID</th>\n",
       "      <th>relatedURL</th>\n",
       "      <th>scripts</th>\n",
       "      <th>tags</th>\n",
       "      <th>title</th>\n",
       "      <th>views</th>\n",
       "    </tr>\n",
       "  </thead>\n",
       "  <tbody>\n",
       "    <tr>\n",
       "      <th>0</th>\n",
       "      <td>[http://cdn.instructables.com/F3Y/TOIU/IENBGPK...</td>\n",
       "      <td>[http://www.icrobotics.co.uk/wiki/index.php/Ma...</td>\n",
       "      <td>[8 Steps]</td>\n",
       "      <td>[]</td>\n",
       "      <td>[taifur]</td>\n",
       "      <td>[featured]</td>\n",
       "      <td>[Very cool idea and so simple!, Thank you, nix...</td>\n",
       "      <td>[]</td>\n",
       "      <td>[2015-09-16 20:02:36.0]</td>\n",
       "      <td>[A wireless microphone is a microphone without...</td>\n",
       "      <td>[technology audio]</td>\n",
       "      <td>http://www.instructables.com/id/Raspberry-Pi-B...</td>\n",
       "      <td>[/id/Easy-and-low-cost-FM-transmitter-DIY-kit/...</td>\n",
       "      <td>[wget , tar xvzf pifm.tar.gz\\n, sudo ./pifm so...</td>\n",
       "      <td>[raspberry pi, fm transmitter, usb microphone,...</td>\n",
       "      <td>[Raspberry Pi Based Wireless FM Microphone]</td>\n",
       "      <td>[favorites:70, views:6118]</td>\n",
       "    </tr>\n",
       "    <tr>\n",
       "      <th>1</th>\n",
       "      <td>[http://cdn.instructables.com/FGM/YN5C/IEJSLJK...</td>\n",
       "      <td>[http://www.instructables.com/id/No-TV-unless-...</td>\n",
       "      <td>[14 Steps]</td>\n",
       "      <td>[&lt;div class=\"video-container\"&gt;&lt;iframe allowful...</td>\n",
       "      <td>[DIY Hacks and How Tos]</td>\n",
       "      <td>[featured]</td>\n",
       "      <td>[This is really cool!  Thanks for the shout-ou...</td>\n",
       "      <td>[]</td>\n",
       "      <td>[2015-09-16 18:49:40.0]</td>\n",
       "      <td>[Most of us spend far too much time in front o...</td>\n",
       "      <td>[technology microcontrollers]</td>\n",
       "      <td>http://www.instructables.com/id/System-For-Aut...</td>\n",
       "      <td>[/id/Control-Any-Circuit-With-a-TV-Remote-and-...</td>\n",
       "      <td>[]</td>\n",
       "      <td>[DIY Hacks and How Tos, Jason Poel Smith, diy_...</td>\n",
       "      <td>[System For Automatically Limiting TV Time]</td>\n",
       "      <td>[favorites:80, views:5947]</td>\n",
       "    </tr>\n",
       "    <tr>\n",
       "      <th>2</th>\n",
       "      <td>[http://cdn.instructables.com/F4A/H4UQ/IEM1C9Q...</td>\n",
       "      <td>[https://github.com/processing/processing-soun...</td>\n",
       "      <td>[3 Steps]</td>\n",
       "      <td>[&lt;div class=\"video-container\"&gt;&lt;iframe allowful...</td>\n",
       "      <td>[Carl Gordon Media]</td>\n",
       "      <td>[featured]</td>\n",
       "      <td>[Could you implement a more \"standalone\" versi...</td>\n",
       "      <td>[Sound_Write.pde, SoundFaceUtil.java]</td>\n",
       "      <td>[2015-09-16 16:26:35.0]</td>\n",
       "      <td>[Here is a quick guide showing how I turned my...</td>\n",
       "      <td>[technology arduino]</td>\n",
       "      <td>http://www.instructables.com/id/Musical-RGB-La...</td>\n",
       "      <td>[/id/RGB-RFID-Lamp/, /id/Bluetooth-Controlled-...</td>\n",
       "      <td>[]</td>\n",
       "      <td>[Lamp, light, rgb, arduino, processing, electr...</td>\n",
       "      <td>[Musical RGB Lamp]</td>\n",
       "      <td>[favorites:127, views:3419]</td>\n",
       "    </tr>\n",
       "  </tbody>\n",
       "</table>\n",
       "</div>"
      ],
      "text/plain": [
       "                                             Nimages  \\\n",
       "0  [http://cdn.instructables.com/F3Y/TOIU/IENBGPK...   \n",
       "1  [http://cdn.instructables.com/FGM/YN5C/IEJSLJK...   \n",
       "2  [http://cdn.instructables.com/F4A/H4UQ/IEM1C9Q...   \n",
       "\n",
       "                                              Nlinks      Nsteps  \\\n",
       "0  [http://www.icrobotics.co.uk/wiki/index.php/Ma...   [8 Steps]   \n",
       "1  [http://www.instructables.com/id/No-TV-unless-...  [14 Steps]   \n",
       "2  [https://github.com/processing/processing-soun...   [3 Steps]   \n",
       "\n",
       "                                             Nvideos                   author  \\\n",
       "0                                                 []                 [taifur]   \n",
       "1  [<div class=\"video-container\"><iframe allowful...  [DIY Hacks and How Tos]   \n",
       "2  [<div class=\"video-container\"><iframe allowful...      [Carl Gordon Media]   \n",
       "\n",
       "        award                                           comments  \\\n",
       "0  [featured]  [Very cool idea and so simple!, Thank you, nix...   \n",
       "1  [featured]  [This is really cool!  Thanks for the shout-ou...   \n",
       "2  [featured]  [Could you implement a more \"standalone\" versi...   \n",
       "\n",
       "                            contentExtra                     date  \\\n",
       "0                                     []  [2015-09-16 20:02:36.0]   \n",
       "1                                     []  [2015-09-16 18:49:40.0]   \n",
       "2  [Sound_Write.pde, SoundFaceUtil.java]  [2015-09-16 16:26:35.0]   \n",
       "\n",
       "                                               descr  \\\n",
       "0  [A wireless microphone is a microphone without...   \n",
       "1  [Most of us spend far too much time in front o...   \n",
       "2  [Here is a quick guide showing how I turned my...   \n",
       "\n",
       "                        keywords  \\\n",
       "0             [technology audio]   \n",
       "1  [technology microcontrollers]   \n",
       "2           [technology arduino]   \n",
       "\n",
       "                                           projectID  \\\n",
       "0  http://www.instructables.com/id/Raspberry-Pi-B...   \n",
       "1  http://www.instructables.com/id/System-For-Aut...   \n",
       "2  http://www.instructables.com/id/Musical-RGB-La...   \n",
       "\n",
       "                                          relatedURL  \\\n",
       "0  [/id/Easy-and-low-cost-FM-transmitter-DIY-kit/...   \n",
       "1  [/id/Control-Any-Circuit-With-a-TV-Remote-and-...   \n",
       "2  [/id/RGB-RFID-Lamp/, /id/Bluetooth-Controlled-...   \n",
       "\n",
       "                                             scripts  \\\n",
       "0  [wget , tar xvzf pifm.tar.gz\\n, sudo ./pifm so...   \n",
       "1                                                 []   \n",
       "2                                                 []   \n",
       "\n",
       "                                                tags  \\\n",
       "0  [raspberry pi, fm transmitter, usb microphone,...   \n",
       "1  [DIY Hacks and How Tos, Jason Poel Smith, diy_...   \n",
       "2  [Lamp, light, rgb, arduino, processing, electr...   \n",
       "\n",
       "                                         title                        views  \n",
       "0  [Raspberry Pi Based Wireless FM Microphone]   [favorites:70, views:6118]  \n",
       "1  [System For Automatically Limiting TV Time]   [favorites:80, views:5947]  \n",
       "2                           [Musical RGB Lamp]  [favorites:127, views:3419]  "
      ]
     },
     "execution_count": 7,
     "metadata": {},
     "output_type": "execute_result"
    }
   ],
   "source": [
    "samp.sort.head()"
   ]
  },
  {
   "cell_type": "markdown",
   "metadata": {},
   "source": []
  },
  {
   "cell_type": "code",
   "execution_count": 10,
   "metadata": {
    "collapsed": true
   },
   "outputs": [],
   "source": [
    "def _url_add_ALLSTEPS(fileh):\n",
    "        with open(fileh,'rb') as f:\n",
    "            string = f.readline().strip('[]')\n",
    "            middle = dict(string)\n",
    "            base = \"http://www.instructables.com\"\n",
    "            end = \"?ALLSTEPS\"\n",
    "            full_url = base + middle[\"projectURL\"] + end\n",
    "            yield full_url"
   ]
  },
  {
   "cell_type": "code",
   "execution_count": 12,
   "metadata": {
    "collapsed": false
   },
   "outputs": [],
   "source": [
    "urls = _url_add_ALLSTEPS('sample.json')"
   ]
  },
  {
   "cell_type": "code",
   "execution_count": 33,
   "metadata": {
    "collapsed": false
   },
   "outputs": [
    {
     "data": {
      "text/plain": [
       "[u'Nvideos',\n",
       " u'descr',\n",
       " u'views',\n",
       " u'projectID',\n",
       " u'author',\n",
       " u'comments',\n",
       " u'keywords',\n",
       " u'Nlinks',\n",
       " u'relatedURL',\n",
       " u'award',\n",
       " u'scripts',\n",
       " u'date',\n",
       " u'title',\n",
       " u'Nimages',\n",
       " u'Nsteps',\n",
       " u'tags',\n",
       " u'contentExtra']"
      ]
     },
     "execution_count": 33,
     "metadata": {},
     "output_type": "execute_result"
    }
   ],
   "source": [
    "with open('sample.json','rb') as f:\n",
    "    drr = json.load(f)\n",
    "    \n",
    "drr[0].keys()\n"
   ]
  },
  {
   "cell_type": "code",
   "execution_count": 34,
   "metadata": {
    "collapsed": false
   },
   "outputs": [
    {
     "data": {
      "text/plain": [
       "[u'A wireless microphone is a microphone without a physical cable connecting it directly to the sound recording or amplifying equipment with which it is associated. Also known as a radio microphone, it has a small, battery-powered radio transmitter in the microphone body, which transmits the audio signal from the microphone by radio waves to a nearby receiver unit, which recovers the audio. The other audio equipment is connected to the receiver unit by cable. ',\n",
       " u\"There are many different standards, frequencies and transmission technologies used to replace the microphone's cable connection and make it into a wireless microphone. They can transmit, for example, in radio waves using UHF or VHF frequencies, FM, AM, or various digital modulation schemes. Some low cost (or specialist) models use infrared light. Infrared microphones require a direct line of sight between the microphone and the receiver, while costlier radio frequency models do not. (-wikipedia)\",\n",
       " u'Once you have the Pi all set up, you\\u2019ll be able to amplify your voice with any all-in-one radio or boombox. This could be useful for giving  lectures or presentations where it might be hard to hear you and there  isn\\u2019t a professional PA system. You could also use it in a van or other  large vehicle to communicate over the car\\u2019s speakers. ',\n",
       " u'Here is the step-by-step instructions how raspberry pi can be used as a very good quality wireless microphone and can be used in class room, seminar, so keep reading.  ',\n",
       " u'We know wireless microphone is actually a wireless radio transmitter. Microphone convert our voice (audio signal) into electrical signal and the transmitter transmit the signal as radio wave. Pi is acting as a FM transmitter in this project. So lets make our Pi FM  transmitter. For the thing I want to thank the people over at ',\n",
       " u' have a new way to use it as FM Transmitter. They designed a program that turns the Pi into an FM radio transmitter.',\n",
       " u\"Our first work is to download the program in our cool Raspberry Pi. For that you must connected to the Internet first. Don't afraid, you only need the internet to download the software, you can use this afterwards without internet. Connect you pi to a monitor or use SSH for accessing your pi remotely (for details of remote access click \",\n",
       " u'). OK, we are connected to out Raspberry Pi, now lets start downloading...',\n",
       " u'One important thing: Connect a 20-30 cm wire (jumper wire will work fine) to the GPIO PIN 4 (shown in figure above) of your Raspberry Pi to increase the range of your transmitter. ',\n",
       " u'1. Open your Pi terminal and type this into the terminal ',\n",
       " u'This will download the python script that helps with the radio transmission. ',\n",
       " u'2. Untar (unzip) the file you downloaded. Type this into the terminal  ',\n",
       " u'3. Open your Radio App on your phone or if you still have a functioning radio tune to 100Mhz and then in your terminal type  sudo ./pifm sound.wav 100.0',\n",
       " u'If everything went well you should now be hearing Star Wars sound track in your radio tuning at 100 MHz. You can transmit any frequency within FM range just typing the frequency instead of 100.0. ',\n",
       " u'The Raspberry Pi comes with a 3.5mm analogue stereo audio output, but no input. As a radio amateur I am interested in using the Raspberry Pi as microphone to do this I need an audio  input. This can be achieved by connecting a USB audio device to your  Raspberry Pi.',\n",
       " u'Make sure your Raspberry Pi is turned off and insert the USB audio device into one of the USB sockets on the Raspberry Pi, and then power  up your Raspberry Pi. The USB audio device should be automatically  installed. Go in SSH or  LXTerminal window and type  the following and press Enter ',\n",
       " u\"You may already have this package on your system, but entering this command won't do any harm even if you do. This will install a package of  ALSA utilities if you don't already have them (ALSA stands for Advances Linux Sound Architecture). If you want to know more about ALSA then follow the link:\",\n",
       " u'. ',\n",
       " u'Now, You should make sure that the USB audio device is being detected by both the hardware and software. Enter the following command and press enter. (image 6)',\n",
       " u'This will display information regarding attached USB devices. As you can see, the last device listed in the screenshot (image 6) above is the USB audio  device labelled as C-Media Electronics, Inc. Audio Adapter. So far, so good.',\n",
       " u'You can adjust the volume of your microphone by by an utility called ',\n",
       " u' ',\n",
       " u'To start it, simply enter the name in the command line, like so:',\n",
       " u'This presents a more graphical view (image 8,9,10) of the volume and information regarding the USB audio device. Using the arrow keys on your keyboard,  select the volume column and adjust the volume higher or lower,  dependent on your needs. Where possible, keep the volume level below  80\\u201390% to avoid any distortion.',\n",
       " u'Our FM transmitter and Microphone setup is ready to transmit our voice. Here is the command you will use to start the broadcast. Each piece will be  explained. Note that this command may need modified to work for your  mic, just keep reading.',\n",
       " u'Let, break the code snippet',\n",
       " u'Program we are using to record audio.',\n",
       " u'Output 16-bit data. Needed this way for PiFM to read it.',\n",
       " u'This specifies sampling rate to output recording. 22,050 is a good balance for speed and quality.',\n",
       " u'to see all of the audio devices connected.',\n",
       " u\"Here sudo for root access, ./pifm run the FM module at  '100.1'  Mhz to  transmit and '22050' is the sampling rate of the input. If you did everything right, after you run the command you should be able  to tune your radio to 100.1 Mhz and hear yourself talking through the  mic!\",\n",
       " u'There are loads of ways of running a command at start-up in Linux but my favoured approach is to create an initialisation script in /etc/init.d  and register it using update-rc.d.  This way the application is started  and stopped automatically when the system boots / shutdowns.',\n",
       " u'Create a bash script in /etc/init.d',\n",
       " u'and add the following lines',\n",
       " u\"press 'Ctrl+X' than 'y' and than enter\",\n",
       " u'Make script executable',\n",
       " u'Test by starting the program and saying something to microphone.  ',\n",
       " u'Press Ctrl+c to exit',\n",
       " u'Register script to be run at start-up',\n",
       " u'To register your script to be run at start-up and shutdown, run the following command:',\n",
       " u'Note - The header at the start is to make the script LSB compliant and provides details about the start up script and you should only need to  change the name.  If you want to know more about creating LSB scripts  for managing services, see ',\n",
       " u'If you ever want to remove the script from start-up, run the following command:',\n",
       " u'If everything goes fine then our program will start automatically every time Raspberry Pi gets power. ',\n",
       " u'We need to modify USB microphone slightly. I want to remove the stand form the microphone. For that, first open the screws from the bottom of the stand and bring out the controller circuit. Cut the connecting wires of switch & microphone to the controller circuit.  Now separate the microphone from the stand and solder it to the controller. ',\n",
       " u'Now, cover the controller & microphone with some felt, attached a clip with the cord. Your microphone is ready to use. ',\n",
       " u'If you completed all the steps before now it is the time to test your invention. Attached the power bank with pi case using some glue. Connect your modified microphone to Raspberry Pi. Power up your pi with power bank. Tuned your FM receiver attached with the speaker to the frequency you set previously. Now you can say anything you like and transmit it to the speaker and broadcast it. You can attached your microphone to your shirt with a clip and raspberry pi in your pocket and moved anywhere in the room. ']"
      ]
     },
     "execution_count": 34,
     "metadata": {},
     "output_type": "execute_result"
    }
   ],
   "source": [
    "drr[0]['descr']"
   ]
  },
  {
   "cell_type": "code",
   "execution_count": 13,
   "metadata": {
    "collapsed": false
   },
   "outputs": [
    {
     "ename": "AttributeError",
     "evalue": "'str' object has no attribute 'read'",
     "output_type": "error",
     "traceback": [
      "\u001b[0;31m---------------------------------------------------------------------------\u001b[0m",
      "\u001b[0;31mAttributeError\u001b[0m                            Traceback (most recent call last)",
      "\u001b[0;32m<ipython-input-13-626dfb53edcd>\u001b[0m in \u001b[0;36m<module>\u001b[0;34m()\u001b[0m\n\u001b[0;32m----> 1\u001b[0;31m \u001b[0;32mfor\u001b[0m \u001b[0mu\u001b[0m \u001b[0;32min\u001b[0m \u001b[0murls\u001b[0m\u001b[0;34m:\u001b[0m\u001b[0;34m\u001b[0m\u001b[0m\n\u001b[0m\u001b[1;32m      2\u001b[0m     \u001b[0;32mprint\u001b[0m \u001b[0mu\u001b[0m\u001b[0;34m\u001b[0m\u001b[0m\n",
      "\u001b[0;32m<ipython-input-10-d0619bf4d084>\u001b[0m in \u001b[0;36m_url_add_ALLSTEPS\u001b[0;34m(fileh)\u001b[0m\n\u001b[1;32m      2\u001b[0m         \u001b[0;32mwith\u001b[0m \u001b[0mopen\u001b[0m\u001b[0;34m(\u001b[0m\u001b[0mfileh\u001b[0m\u001b[0;34m,\u001b[0m\u001b[0;34m'rb'\u001b[0m\u001b[0;34m)\u001b[0m \u001b[0;32mas\u001b[0m \u001b[0mf\u001b[0m\u001b[0;34m:\u001b[0m\u001b[0;34m\u001b[0m\u001b[0m\n\u001b[1;32m      3\u001b[0m             \u001b[0mstring\u001b[0m \u001b[0;34m=\u001b[0m \u001b[0mf\u001b[0m\u001b[0;34m.\u001b[0m\u001b[0mreadline\u001b[0m\u001b[0;34m(\u001b[0m\u001b[0;34m)\u001b[0m\u001b[0;34m.\u001b[0m\u001b[0mstrip\u001b[0m\u001b[0;34m(\u001b[0m\u001b[0;34m'[]'\u001b[0m\u001b[0;34m)\u001b[0m\u001b[0;34m\u001b[0m\u001b[0m\n\u001b[0;32m----> 4\u001b[0;31m             \u001b[0mmiddle\u001b[0m \u001b[0;34m=\u001b[0m \u001b[0mjson\u001b[0m\u001b[0;34m.\u001b[0m\u001b[0mload\u001b[0m\u001b[0;34m(\u001b[0m\u001b[0mstring\u001b[0m\u001b[0;34m)\u001b[0m\u001b[0;34m\u001b[0m\u001b[0m\n\u001b[0m\u001b[1;32m      5\u001b[0m             \u001b[0mbase\u001b[0m \u001b[0;34m=\u001b[0m \u001b[0;34m\"http://www.instructables.com\"\u001b[0m\u001b[0;34m\u001b[0m\u001b[0m\n\u001b[1;32m      6\u001b[0m             \u001b[0mend\u001b[0m \u001b[0;34m=\u001b[0m \u001b[0;34m\"?ALLSTEPS\"\u001b[0m\u001b[0;34m\u001b[0m\u001b[0m\n",
      "\u001b[0;32m/Users/Michel_home/anaconda/lib/python2.7/json/__init__.pyc\u001b[0m in \u001b[0;36mload\u001b[0;34m(fp, encoding, cls, object_hook, parse_float, parse_int, parse_constant, object_pairs_hook, **kw)\u001b[0m\n\u001b[1;32m    284\u001b[0m \u001b[0;34m\u001b[0m\u001b[0m\n\u001b[1;32m    285\u001b[0m     \"\"\"\n\u001b[0;32m--> 286\u001b[0;31m     return loads(fp.read(),\n\u001b[0m\u001b[1;32m    287\u001b[0m         \u001b[0mencoding\u001b[0m\u001b[0;34m=\u001b[0m\u001b[0mencoding\u001b[0m\u001b[0;34m,\u001b[0m \u001b[0mcls\u001b[0m\u001b[0;34m=\u001b[0m\u001b[0mcls\u001b[0m\u001b[0;34m,\u001b[0m \u001b[0mobject_hook\u001b[0m\u001b[0;34m=\u001b[0m\u001b[0mobject_hook\u001b[0m\u001b[0;34m,\u001b[0m\u001b[0;34m\u001b[0m\u001b[0m\n\u001b[1;32m    288\u001b[0m         \u001b[0mparse_float\u001b[0m\u001b[0;34m=\u001b[0m\u001b[0mparse_float\u001b[0m\u001b[0;34m,\u001b[0m \u001b[0mparse_int\u001b[0m\u001b[0;34m=\u001b[0m\u001b[0mparse_int\u001b[0m\u001b[0;34m,\u001b[0m\u001b[0;34m\u001b[0m\u001b[0m\n",
      "\u001b[0;31mAttributeError\u001b[0m: 'str' object has no attribute 'read'"
     ]
    }
   ],
   "source": [
    "for u in urls:\n",
    "    print u"
   ]
  },
  {
   "cell_type": "code",
   "execution_count": 20,
   "metadata": {
    "collapsed": false
   },
   "outputs": [
    {
     "ename": "AttributeError",
     "evalue": "'str' object has no attribute 'read'",
     "output_type": "error",
     "traceback": [
      "\u001b[0;31m---------------------------------------------------------------------------\u001b[0m",
      "\u001b[0;31mAttributeError\u001b[0m                            Traceback (most recent call last)",
      "\u001b[0;32m<ipython-input-20-61800f87acbf>\u001b[0m in \u001b[0;36m<module>\u001b[0;34m()\u001b[0m\n\u001b[0;32m----> 1\u001b[0;31m \u001b[0mjson\u001b[0m\u001b[0;34m.\u001b[0m\u001b[0mload\u001b[0m\u001b[0;34m(\u001b[0m\u001b[0;34m'sample.json'\u001b[0m\u001b[0;34m)\u001b[0m\u001b[0;34m\u001b[0m\u001b[0m\n\u001b[0m",
      "\u001b[0;32m/Users/Michel_home/anaconda/lib/python2.7/json/__init__.pyc\u001b[0m in \u001b[0;36mload\u001b[0;34m(fp, encoding, cls, object_hook, parse_float, parse_int, parse_constant, object_pairs_hook, **kw)\u001b[0m\n\u001b[1;32m    284\u001b[0m \u001b[0;34m\u001b[0m\u001b[0m\n\u001b[1;32m    285\u001b[0m     \"\"\"\n\u001b[0;32m--> 286\u001b[0;31m     return loads(fp.read(),\n\u001b[0m\u001b[1;32m    287\u001b[0m         \u001b[0mencoding\u001b[0m\u001b[0;34m=\u001b[0m\u001b[0mencoding\u001b[0m\u001b[0;34m,\u001b[0m \u001b[0mcls\u001b[0m\u001b[0;34m=\u001b[0m\u001b[0mcls\u001b[0m\u001b[0;34m,\u001b[0m \u001b[0mobject_hook\u001b[0m\u001b[0;34m=\u001b[0m\u001b[0mobject_hook\u001b[0m\u001b[0;34m,\u001b[0m\u001b[0;34m\u001b[0m\u001b[0m\n\u001b[1;32m    288\u001b[0m         \u001b[0mparse_float\u001b[0m\u001b[0;34m=\u001b[0m\u001b[0mparse_float\u001b[0m\u001b[0;34m,\u001b[0m \u001b[0mparse_int\u001b[0m\u001b[0;34m=\u001b[0m\u001b[0mparse_int\u001b[0m\u001b[0;34m,\u001b[0m\u001b[0;34m\u001b[0m\u001b[0m\n",
      "\u001b[0;31mAttributeError\u001b[0m: 'str' object has no attribute 'read'"
     ]
    }
   ],
   "source": [
    "json.load('sample.json')"
   ]
  },
  {
   "cell_type": "code",
   "execution_count": null,
   "metadata": {
    "collapsed": true
   },
   "outputs": [],
   "source": [
    "file.readline"
   ]
  }
 ],
 "metadata": {
  "kernelspec": {
   "display_name": "Python 2",
   "language": "python",
   "name": "python2"
  },
  "language_info": {
   "codemirror_mode": {
    "name": "ipython",
    "version": 2
   },
   "file_extension": ".py",
   "mimetype": "text/x-python",
   "name": "python",
   "nbconvert_exporter": "python",
   "pygments_lexer": "ipython2",
   "version": "2.7.10"
  }
 },
 "nbformat": 4,
 "nbformat_minor": 0
}
